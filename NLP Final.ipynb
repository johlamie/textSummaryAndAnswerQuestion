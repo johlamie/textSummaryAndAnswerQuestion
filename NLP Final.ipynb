{
 "cells": [
  {
   "cell_type": "code",
   "execution_count": 2,
   "metadata": {
    "scrolled": true
   },
   "outputs": [
    {
     "name": "stdout",
     "output_type": "stream",
     "text": [
      "Collecting bs4\n",
      "  Downloading bs4-0.0.1.tar.gz (1.1 kB)\n",
      "Collecting beautifulsoup4\n",
      "  Downloading beautifulsoup4-4.9.3-py3-none-any.whl (115 kB)\n",
      "Collecting soupsieve>1.2\n",
      "  Downloading soupsieve-2.1-py3-none-any.whl (32 kB)\n",
      "Building wheels for collected packages: bs4\n",
      "  Building wheel for bs4 (setup.py): started\n",
      "  Building wheel for bs4 (setup.py): finished with status 'done'\n",
      "  Created wheel for bs4: filename=bs4-0.0.1-py3-none-any.whl size=1273 sha256=ee9dbb2997249f1cd7548245ade37db013c23f2983a8f5279496b895d94d0bc6\n",
      "  Stored in directory: c:\\users\\laoue\\appdata\\local\\pip\\cache\\wheels\\0a\\9e\\ba\\20e5bbc1afef3a491f0b3bb74d508f99403aabe76eda2167ca\n",
      "Successfully built bs4\n",
      "Installing collected packages: soupsieve, beautifulsoup4, bs4\n",
      "Successfully installed beautifulsoup4-4.9.3 bs4-0.0.1 soupsieve-2.1\n",
      "Collecting networkx\n",
      "  Using cached networkx-2.5-py3-none-any.whl (1.6 MB)\n",
      "Requirement already satisfied: decorator>=4.3.0 in c:\\users\\laoue\\anaconda3\\envs\\nlp\\lib\\site-packages (from networkx) (4.4.2)\n",
      "Installing collected packages: networkx\n",
      "Successfully installed networkx-2.5\n"
     ]
    }
   ],
   "source": [
    "#pip install newsapi-python\n",
    "#pip install wordcloud\n",
    "!pip install bs4\n",
    "!pip install networkx\n",
    "#pip install transformers"
   ]
  },
  {
   "cell_type": "code",
   "execution_count": 3,
   "metadata": {},
   "outputs": [],
   "source": [
    "from newsapi.newsapi_client import NewsApiClient\n",
    "from pandas.io.json import json_normalize\n",
    "import pandas as pd"
   ]
  },
  {
   "cell_type": "code",
   "execution_count": 1,
   "metadata": {},
   "outputs": [
    {
     "name": "stderr",
     "output_type": "stream",
     "text": [
      "<ipython-input-1-eb92bc9928b6>:6: FutureWarning: Passing a negative integer is deprecated in version 1.0 and will not be supported in future version. Instead, use None to not limit the column width.\n",
      "  pd.set_option('display.max_colwidth', -1)\n"
     ]
    }
   ],
   "source": [
    "from newsapi.newsapi_client import NewsApiClient\n",
    "api_key='45ebc2acfcea48958f0d837342da4ff0'\n",
    "newsapi = NewsApiClient(api_key=api_key)\n",
    "from pandas.io.json import json_normalize\n",
    "import pandas as pd\n",
    "pd.set_option('display.max_colwidth', -1)\n",
    "import pprint as pp\n",
    "import requests\n",
    "from bs4 import BeautifulSoup"
   ]
  },
  {
   "cell_type": "code",
   "execution_count": 2,
   "metadata": {},
   "outputs": [],
   "source": [
    "import datetime\n",
    "#datetime.datetime.now().date()\n",
    "from datetime import datetime, timedelta\n",
    "def date(base):\n",
    "    date_list=[]\n",
    "    yr=datetime.today().year\n",
    "    if (yr%400)==0 or ((yr%100!=0) and (yr%4==0)):\n",
    "        numdays=366\n",
    "        date_list.append([base - timedelta(days=x) for x in range(366)])\n",
    "    else:\n",
    "        numdays=365\n",
    "        date_list.append([base - timedelta(days=x) for x in range(365)])\n",
    "    newlist=[]\n",
    "    for i in date_list:\n",
    "        for j in sorted(i):\n",
    "            newlist.append(j)\n",
    "    return newlist"
   ]
  },
  {
   "cell_type": "code",
   "execution_count": 3,
   "metadata": {},
   "outputs": [],
   "source": [
    "def last_30(base):\n",
    "\n",
    "    date_list=[base - timedelta(days=x) for x in range(30)]\n",
    "    newlist=[]\n",
    "    for i in sorted(date_list):\n",
    "        newlist.append(i)\n",
    "    return sorted(date_list)\n"
   ]
  },
  {
   "cell_type": "code",
   "execution_count": 4,
   "metadata": {},
   "outputs": [],
   "source": [
    "def from_dt(x):\n",
    "    from_dt=[]\n",
    "    for i in range(len(x)):\n",
    "        from_dt.append(last_30(datetime.today())[i-1].date())\n",
    "        #to_dt=date(datetime.today())[i+1].date()\n",
    "    return from_dt"
   ]
  },
  {
   "cell_type": "code",
   "execution_count": 5,
   "metadata": {},
   "outputs": [],
   "source": [
    "def to_dt(x):\n",
    "    to_dt=[]\n",
    "    for i in range(len(x)):\n",
    "        #from_dt=date(datetime.today())[i].date()\n",
    "        to_dt.append(last_30(datetime.today())[i].date())\n",
    "    return to_dt"
   ]
  },
  {
   "cell_type": "code",
   "execution_count": 6,
   "metadata": {},
   "outputs": [],
   "source": [
    "from_list=from_dt(last_30(datetime.today()))\n",
    "to_list=to_dt(last_30(datetime.today()))"
   ]
  },
  {
   "cell_type": "code",
   "execution_count": 7,
   "metadata": {},
   "outputs": [],
   "source": [
    "# /v2/everythin\n",
    "#class query(chat):\n",
    "all_articles['articles']\n",
    "def func(query):\n",
    "    newdf=pd.DataFrame()\n",
    "    #query=match.groups()[0]\n",
    "    for (from_dt,to_dt) in zip(from_list,to_list):\n",
    "        all_articles = newsapi.get_everything(q=query,language='en',sort_by='relevancy',    from_param=from_dt,to=to_dt)\n",
    "        d=json_normalize(all_articles['articles'])\n",
    "        newdf=newdf.append(d)\n",
    "            \n",
    "    return newdf"
   ]
  },
  {
   "cell_type": "code",
   "execution_count": 8,
   "metadata": {},
   "outputs": [
    {
     "name": "stderr",
     "output_type": "stream",
     "text": [
      "<ipython-input-7-d4b572be37ac>:8: FutureWarning: pandas.io.json.json_normalize is deprecated, use pandas.json_normalize instead\n",
      "  d=json_normalize(all_articles['articles'])\n"
     ]
    },
    {
     "data": {
      "text/html": [
       "<div>\n",
       "<style scoped>\n",
       "    .dataframe tbody tr th:only-of-type {\n",
       "        vertical-align: middle;\n",
       "    }\n",
       "\n",
       "    .dataframe tbody tr th {\n",
       "        vertical-align: top;\n",
       "    }\n",
       "\n",
       "    .dataframe thead th {\n",
       "        text-align: right;\n",
       "    }\n",
       "</style>\n",
       "<table border=\"1\" class=\"dataframe\">\n",
       "  <thead>\n",
       "    <tr style=\"text-align: right;\">\n",
       "      <th></th>\n",
       "      <th>author</th>\n",
       "      <th>title</th>\n",
       "      <th>description</th>\n",
       "      <th>url</th>\n",
       "      <th>urlToImage</th>\n",
       "      <th>publishedAt</th>\n",
       "      <th>content</th>\n",
       "      <th>source.id</th>\n",
       "      <th>source.name</th>\n",
       "    </tr>\n",
       "  </thead>\n",
       "  <tbody>\n",
       "    <tr>\n",
       "      <th>0</th>\n",
       "      <td>Beth Skwarecki on Vitals, shared by Beth Skwarecki to Lifehacker</td>\n",
       "      <td>Track COVID Vaccinations With These Websites</td>\n",
       "      <td>Less than a month after the first vaccine against COVID-19 was authorized for use in the US, the CDC reports that we have distributed 17 million doses and vaccinated 4.8 million people. (Full protection requires two doses, so most people have only gotten thei…</td>\n",
       "      <td>https://vitals.lifehacker.com/track-covid-vaccinations-with-these-websites-1846001330</td>\n",
       "      <td>https://i.kinja-img.com/gawker-media/image/upload/c_fill,f_auto,fl_progressive,g_center,h_675,pg_1,q_80,w_1200/ojztqqs18vn0zxjlgxov.png</td>\n",
       "      <td>2021-01-06T18:30:00Z</td>\n",
       "      <td>Less than a month after the first vaccine against COVID-19 was authorized for use in the US, the CDC reports that we have distributed 17 million doses and vaccinated 4.8 million people. (Full protect… [+1710 chars]</td>\n",
       "      <td>None</td>\n",
       "      <td>Lifehacker.com</td>\n",
       "    </tr>\n",
       "    <tr>\n",
       "      <th>1</th>\n",
       "      <td>Beth Skwarecki</td>\n",
       "      <td>Animals Can Get COVID-19, Too</td>\n",
       "      <td>At least two gorillas at the San Diego Zoo have tested positive for COVID-19, the zoo has announced. They aren’t the first animals to contract the coronavirus in this pandemic, and they probably won’t be the last. Read more...</td>\n",
       "      <td>https://lifehacker.com/animals-can-get-covid-19-too-1846045708</td>\n",
       "      <td>https://i.kinja-img.com/gawker-media/image/upload/c_fill,f_auto,fl_progressive,g_center,h_675,pg_1,q_80,w_1200/hbxrrpozekzycnaaa74b.jpg</td>\n",
       "      <td>2021-01-12T22:15:00Z</td>\n",
       "      <td>At least two gorillas at the San Diego Zoo have tested positive for COVID-19, the zoo has announced. They arent the first animals to contract the coronavirus in this pandemic, and they probably wont … [+2291 chars]</td>\n",
       "      <td>None</td>\n",
       "      <td>Lifehacker.com</td>\n",
       "    </tr>\n",
       "    <tr>\n",
       "      <th>2</th>\n",
       "      <td>Mike Winters on Two Cents, shared by Mike Winters to Lifehacker</td>\n",
       "      <td>What’s in Biden’s COVID Relief Plan?</td>\n",
       "      <td>President-elect Joe Biden released a slew of COVID relief measures as part of a $1.9 trillion economic plan ahead of taking office next week—it includes a new round of relief checks, enhanced unemployment aid, and a minimum wage increase. Here’s a summary of …</td>\n",
       "      <td>https://twocents.lifehacker.com/what-s-in-biden-s-covid-relief-plan-1846067483</td>\n",
       "      <td>https://i.kinja-img.com/gawker-media/image/upload/c_fill,f_auto,fl_progressive,g_center,h_675,pg_1,q_80,w_1200/wjjkc1avq3jhkdmlrgcx.jpg</td>\n",
       "      <td>2021-01-15T18:30:00Z</td>\n",
       "      <td>President-elect Joe Biden released a slew of COVID relief measures as part of a $1.9 trillion economic plan ahead of taking office next weekit includes a new round of relief checks, enhanced unemploy… [+3680 chars]</td>\n",
       "      <td>None</td>\n",
       "      <td>Lifehacker.com</td>\n",
       "    </tr>\n",
       "    <tr>\n",
       "      <th>3</th>\n",
       "      <td>Sam Blum</td>\n",
       "      <td>You Now Have to Prove You Don't Have COVID Before Flying to the U.S. From Abroad</td>\n",
       "      <td>With COVID-19 cases surging in the United States and abroad, there’s really no justifiable reason to travel internationally for pleasure right now. But if you do have an unavoidable need to travel to a different country, you’ll need to prove you don’t have CO…</td>\n",
       "      <td>https://lifehacker.com/you-now-have-to-prove-you-dont-have-covid-before-flying-1846057851</td>\n",
       "      <td>https://i.kinja-img.com/gawker-media/image/upload/c_fill,f_auto,fl_progressive,g_center,h_675,pg_1,q_80,w_1200/d06r7eeglnkalzo2jrcz.jpg</td>\n",
       "      <td>2021-01-14T18:30:00Z</td>\n",
       "      <td>With COVID-19 cases surging in the United States and abroad, theres really no justifiable reason to travel internationally for pleasure right now. But if you do have an unavoidable need to travel to … [+3999 chars]</td>\n",
       "      <td>None</td>\n",
       "      <td>Lifehacker.com</td>\n",
       "    </tr>\n",
       "    <tr>\n",
       "      <th>4</th>\n",
       "      <td>Adam Rogers</td>\n",
       "      <td>Biden’s Covid Plan Will Define His Presidency</td>\n",
       "      <td>It’s not just about the pandemic. How the new administration handles Covid-19 will be a test of every one of its policies—and its values.</td>\n",
       "      <td>https://www.wired.com/story/bidens-covid-plan-will-define-his-presidency/</td>\n",
       "      <td>https://media.wired.com/photos/6000b2c499fa904d14740fd6/191:100/w_1280,c_limit/Science_biden_covid_1230217745.jpg</td>\n",
       "      <td>2021-01-20T12:00:00Z</td>\n",
       "      <td>On Day Zero of the presidential administration of Joe Biden, the single priority of the federal government must be Covid-19. Without torquing the numbers of deaths and infections downward, no other p… [+3301 chars]</td>\n",
       "      <td>wired</td>\n",
       "      <td>Wired</td>\n",
       "    </tr>\n",
       "  </tbody>\n",
       "</table>\n",
       "</div>"
      ],
      "text/plain": [
       "                                                             author  \\\n",
       "0  Beth Skwarecki on Vitals, shared by Beth Skwarecki to Lifehacker   \n",
       "1  Beth Skwarecki                                                     \n",
       "2  Mike Winters on Two Cents, shared by Mike Winters to Lifehacker    \n",
       "3  Sam Blum                                                           \n",
       "4  Adam Rogers                                                        \n",
       "\n",
       "                                                                              title  \\\n",
       "0  Track COVID Vaccinations With These Websites                                       \n",
       "1  Animals Can Get COVID-19, Too                                                      \n",
       "2  What’s in Biden’s COVID Relief Plan?                                               \n",
       "3  You Now Have to Prove You Don't Have COVID Before Flying to the U.S. From Abroad   \n",
       "4  Biden’s Covid Plan Will Define His Presidency                                      \n",
       "\n",
       "                                                                                                                                                                                                                                                            description  \\\n",
       "0  Less than a month after the first vaccine against COVID-19 was authorized for use in the US, the CDC reports that we have distributed 17 million doses and vaccinated 4.8 million people. (Full protection requires two doses, so most people have only gotten thei…   \n",
       "1  At least two gorillas at the San Diego Zoo have tested positive for COVID-19, the zoo has announced. They aren’t the first animals to contract the coronavirus in this pandemic, and they probably won’t be the last. Read more...                                     \n",
       "2  President-elect Joe Biden released a slew of COVID relief measures as part of a $1.9 trillion economic plan ahead of taking office next week—it includes a new round of relief checks, enhanced unemployment aid, and a minimum wage increase. Here’s a summary of …   \n",
       "3  With COVID-19 cases surging in the United States and abroad, there’s really no justifiable reason to travel internationally for pleasure right now. But if you do have an unavoidable need to travel to a different country, you’ll need to prove you don’t have CO…   \n",
       "4  It’s not just about the pandemic. How the new administration handles Covid-19 will be a test of every one of its policies—and its values.                                                                                                                              \n",
       "\n",
       "                                                                                         url  \\\n",
       "0  https://vitals.lifehacker.com/track-covid-vaccinations-with-these-websites-1846001330       \n",
       "1  https://lifehacker.com/animals-can-get-covid-19-too-1846045708                              \n",
       "2  https://twocents.lifehacker.com/what-s-in-biden-s-covid-relief-plan-1846067483              \n",
       "3  https://lifehacker.com/you-now-have-to-prove-you-dont-have-covid-before-flying-1846057851   \n",
       "4  https://www.wired.com/story/bidens-covid-plan-will-define-his-presidency/                   \n",
       "\n",
       "                                                                                                                                urlToImage  \\\n",
       "0  https://i.kinja-img.com/gawker-media/image/upload/c_fill,f_auto,fl_progressive,g_center,h_675,pg_1,q_80,w_1200/ojztqqs18vn0zxjlgxov.png   \n",
       "1  https://i.kinja-img.com/gawker-media/image/upload/c_fill,f_auto,fl_progressive,g_center,h_675,pg_1,q_80,w_1200/hbxrrpozekzycnaaa74b.jpg   \n",
       "2  https://i.kinja-img.com/gawker-media/image/upload/c_fill,f_auto,fl_progressive,g_center,h_675,pg_1,q_80,w_1200/wjjkc1avq3jhkdmlrgcx.jpg   \n",
       "3  https://i.kinja-img.com/gawker-media/image/upload/c_fill,f_auto,fl_progressive,g_center,h_675,pg_1,q_80,w_1200/d06r7eeglnkalzo2jrcz.jpg   \n",
       "4  https://media.wired.com/photos/6000b2c499fa904d14740fd6/191:100/w_1280,c_limit/Science_biden_covid_1230217745.jpg                         \n",
       "\n",
       "            publishedAt  \\\n",
       "0  2021-01-06T18:30:00Z   \n",
       "1  2021-01-12T22:15:00Z   \n",
       "2  2021-01-15T18:30:00Z   \n",
       "3  2021-01-14T18:30:00Z   \n",
       "4  2021-01-20T12:00:00Z   \n",
       "\n",
       "                                                                                                                                                                                                                  content  \\\n",
       "0  Less than a month after the first vaccine against COVID-19 was authorized for use in the US, the CDC reports that we have distributed 17 million doses and vaccinated 4.8 million people. (Full protect… [+1710 chars]   \n",
       "1  At least two gorillas at the San Diego Zoo have tested positive for COVID-19, the zoo has announced. They arent the first animals to contract the coronavirus in this pandemic, and they probably wont … [+2291 chars]   \n",
       "2  President-elect Joe Biden released a slew of COVID relief measures as part of a $1.9 trillion economic plan ahead of taking office next weekit includes a new round of relief checks, enhanced unemploy… [+3680 chars]   \n",
       "3  With COVID-19 cases surging in the United States and abroad, theres really no justifiable reason to travel internationally for pleasure right now. But if you do have an unavoidable need to travel to … [+3999 chars]   \n",
       "4  On Day Zero of the presidential administration of Joe Biden, the single priority of the federal government must be Covid-19. Without torquing the numbers of deaths and infections downward, no other p… [+3301 chars]   \n",
       "\n",
       "  source.id     source.name  \n",
       "0  None      Lifehacker.com  \n",
       "1  None      Lifehacker.com  \n",
       "2  None      Lifehacker.com  \n",
       "3  None      Lifehacker.com  \n",
       "4  wired     Wired           "
      ]
     },
     "execution_count": 8,
     "metadata": {},
     "output_type": "execute_result"
    }
   ],
   "source": [
    "df1=pd.DataFrame(func('covid'))\n",
    "df1.head()"
   ]
  },
  {
   "cell_type": "code",
   "execution_count": 11,
   "metadata": {},
   "outputs": [
    {
     "data": {
      "text/plain": [
       "600"
      ]
     },
     "execution_count": 11,
     "metadata": {},
     "output_type": "execute_result"
    }
   ],
   "source": [
    "len(df1)"
   ]
  },
  {
   "cell_type": "code",
   "execution_count": 40,
   "metadata": {},
   "outputs": [],
   "source": [
    "df1.to_csv(\"covid.csv\",sep=\";\",encoding='utf-8', index=False)"
   ]
  },
  {
   "cell_type": "code",
   "execution_count": 4,
   "metadata": {},
   "outputs": [
    {
     "data": {
      "text/html": [
       "<div>\n",
       "<style scoped>\n",
       "    .dataframe tbody tr th:only-of-type {\n",
       "        vertical-align: middle;\n",
       "    }\n",
       "\n",
       "    .dataframe tbody tr th {\n",
       "        vertical-align: top;\n",
       "    }\n",
       "\n",
       "    .dataframe thead th {\n",
       "        text-align: right;\n",
       "    }\n",
       "</style>\n",
       "<table border=\"1\" class=\"dataframe\">\n",
       "  <thead>\n",
       "    <tr style=\"text-align: right;\">\n",
       "      <th></th>\n",
       "      <th>author</th>\n",
       "      <th>title</th>\n",
       "      <th>description</th>\n",
       "      <th>url</th>\n",
       "      <th>urlToImage</th>\n",
       "      <th>publishedAt</th>\n",
       "      <th>content</th>\n",
       "      <th>source.id</th>\n",
       "      <th>source.name</th>\n",
       "    </tr>\n",
       "  </thead>\n",
       "  <tbody>\n",
       "    <tr>\n",
       "      <th>0</th>\n",
       "      <td>Beth Skwarecki on Vitals, shared by Beth Skwar...</td>\n",
       "      <td>Track COVID Vaccinations With These Websites</td>\n",
       "      <td>Less than a month after the first vaccine agai...</td>\n",
       "      <td>https://vitals.lifehacker.com/track-covid-vacc...</td>\n",
       "      <td>https://i.kinja-img.com/gawker-media/image/upl...</td>\n",
       "      <td>2021-01-06T18:30:00Z</td>\n",
       "      <td>Less than a month after the first vaccine agai...</td>\n",
       "      <td>NaN</td>\n",
       "      <td>Lifehacker.com</td>\n",
       "    </tr>\n",
       "    <tr>\n",
       "      <th>1</th>\n",
       "      <td>Beth Skwarecki</td>\n",
       "      <td>Animals Can Get COVID-19, Too</td>\n",
       "      <td>At least two gorillas at the San Diego Zoo hav...</td>\n",
       "      <td>https://lifehacker.com/animals-can-get-covid-1...</td>\n",
       "      <td>https://i.kinja-img.com/gawker-media/image/upl...</td>\n",
       "      <td>2021-01-12T22:15:00Z</td>\n",
       "      <td>At least two gorillas at the San Diego Zoo hav...</td>\n",
       "      <td>NaN</td>\n",
       "      <td>Lifehacker.com</td>\n",
       "    </tr>\n",
       "    <tr>\n",
       "      <th>2</th>\n",
       "      <td>Mike Winters on Two Cents, shared by Mike Wint...</td>\n",
       "      <td>Whatâ€™s in Bidenâ€™s COVID Relief Plan?</td>\n",
       "      <td>President-elect Joe Biden released a slew of C...</td>\n",
       "      <td>https://twocents.lifehacker.com/what-s-in-bide...</td>\n",
       "      <td>https://i.kinja-img.com/gawker-media/image/upl...</td>\n",
       "      <td>2021-01-15T18:30:00Z</td>\n",
       "      <td>President-elect Joe Biden released a slew of C...</td>\n",
       "      <td>NaN</td>\n",
       "      <td>Lifehacker.com</td>\n",
       "    </tr>\n",
       "    <tr>\n",
       "      <th>3</th>\n",
       "      <td>Sam Blum</td>\n",
       "      <td>You Now Have to Prove You Don't Have COVID Bef...</td>\n",
       "      <td>With COVID-19 cases surging in the United Stat...</td>\n",
       "      <td>https://lifehacker.com/you-now-have-to-prove-y...</td>\n",
       "      <td>https://i.kinja-img.com/gawker-media/image/upl...</td>\n",
       "      <td>2021-01-14T18:30:00Z</td>\n",
       "      <td>With COVID-19 cases surging in the United Stat...</td>\n",
       "      <td>NaN</td>\n",
       "      <td>Lifehacker.com</td>\n",
       "    </tr>\n",
       "    <tr>\n",
       "      <th>4</th>\n",
       "      <td>Adam Rogers</td>\n",
       "      <td>Bidenâ€™s Covid Plan Will Define His Presidency</td>\n",
       "      <td>Itâ€™s not just about the pandemic. How the ne...</td>\n",
       "      <td>https://www.wired.com/story/bidens-covid-plan-...</td>\n",
       "      <td>https://media.wired.com/photos/6000b2c499fa904...</td>\n",
       "      <td>2021-01-20T12:00:00Z</td>\n",
       "      <td>ON DAY ZERO of the presidential administration...</td>\n",
       "      <td>wired</td>\n",
       "      <td>Wired</td>\n",
       "    </tr>\n",
       "    <tr>\n",
       "      <th>5</th>\n",
       "      <td>Michael D. Shear, Maggie Haberman, Noah Weilan...</td>\n",
       "      <td>â€˜Covid, Covid, Covidâ€™: In Trumpâ€™s Final ...</td>\n",
       "      <td>As the U.S. confronted a new wave of infection...</td>\n",
       "      <td>https://www.nytimes.com/2020/12/31/us/politics...</td>\n",
       "      <td>https://static01.nyt.com/images/2020/12/31/us/...</td>\n",
       "      <td>2020-12-31T19:16:52Z</td>\n",
       "      <td>WASHINGTON — It was a warm summer Wednesday, E...</td>\n",
       "      <td>NaN</td>\n",
       "      <td>New York Times</td>\n",
       "    </tr>\n",
       "    <tr>\n",
       "      <th>6</th>\n",
       "      <td>Beth Skwarecki on Vitals, shared by Beth Skwar...</td>\n",
       "      <td>How Long Does Immunity Last After Getting Over...</td>\n",
       "      <td>Throughout the pandemic, one of the biggest un...</td>\n",
       "      <td>https://vitals.lifehacker.com/how-long-does-im...</td>\n",
       "      <td>https://i.kinja-img.com/gawker-media/image/upl...</td>\n",
       "      <td>2021-01-14T19:30:00Z</td>\n",
       "      <td>What does this mean if I’ve had COVID?\\nWe’ve ...</td>\n",
       "      <td>NaN</td>\n",
       "      <td>Lifehacker.com</td>\n",
       "    </tr>\n",
       "    <tr>\n",
       "      <th>7</th>\n",
       "      <td>Beth Skwarecki on Vitals, shared by Beth Skwar...</td>\n",
       "      <td>How Bad Are All These New COVID Variants?</td>\n",
       "      <td>Viruses mutate; so does everything, really. Bu...</td>\n",
       "      <td>https://vitals.lifehacker.com/how-bad-are-all-...</td>\n",
       "      <td>https://i.kinja-img.com/gawker-media/image/upl...</td>\n",
       "      <td>2021-01-21T21:45:00Z</td>\n",
       "      <td>B.1.1.7 is more transmissible, but the disease...</td>\n",
       "      <td>NaN</td>\n",
       "      <td>Lifehacker.com</td>\n",
       "    </tr>\n",
       "    <tr>\n",
       "      <th>8</th>\n",
       "      <td>Benjamin Mazer</td>\n",
       "      <td>There Should Be a Nobel Prize for Vaccine Logi...</td>\n",
       "      <td>Immunization against Covid-19 is not going per...</td>\n",
       "      <td>https://www.wired.com/story/there-should-be-a-...</td>\n",
       "      <td>https://media.wired.com/photos/5ff4fb087446cc5...</td>\n",
       "      <td>2021-01-06T12:00:00Z</td>\n",
       "      <td>I SPENT A lot of time last year thinking about...</td>\n",
       "      <td>wired</td>\n",
       "      <td>Wired</td>\n",
       "    </tr>\n",
       "  </tbody>\n",
       "</table>\n",
       "</div>"
      ],
      "text/plain": [
       "                                              author  \\\n",
       "0  Beth Skwarecki on Vitals, shared by Beth Skwar...   \n",
       "1                                     Beth Skwarecki   \n",
       "2  Mike Winters on Two Cents, shared by Mike Wint...   \n",
       "3                                           Sam Blum   \n",
       "4                                        Adam Rogers   \n",
       "5  Michael D. Shear, Maggie Haberman, Noah Weilan...   \n",
       "6  Beth Skwarecki on Vitals, shared by Beth Skwar...   \n",
       "7  Beth Skwarecki on Vitals, shared by Beth Skwar...   \n",
       "8                                     Benjamin Mazer   \n",
       "\n",
       "                                               title  \\\n",
       "0       Track COVID Vaccinations With These Websites   \n",
       "1                      Animals Can Get COVID-19, Too   \n",
       "2           Whatâ€™s in Bidenâ€™s COVID Relief Plan?   \n",
       "3  You Now Have to Prove You Don't Have COVID Bef...   \n",
       "4    Bidenâ€™s Covid Plan Will Define His Presidency   \n",
       "5  â€˜Covid, Covid, Covidâ€™: In Trumpâ€™s Final ...   \n",
       "6  How Long Does Immunity Last After Getting Over...   \n",
       "7          How Bad Are All These New COVID Variants?   \n",
       "8  There Should Be a Nobel Prize for Vaccine Logi...   \n",
       "\n",
       "                                         description  \\\n",
       "0  Less than a month after the first vaccine agai...   \n",
       "1  At least two gorillas at the San Diego Zoo hav...   \n",
       "2  President-elect Joe Biden released a slew of C...   \n",
       "3  With COVID-19 cases surging in the United Stat...   \n",
       "4  Itâ€™s not just about the pandemic. How the ne...   \n",
       "5  As the U.S. confronted a new wave of infection...   \n",
       "6  Throughout the pandemic, one of the biggest un...   \n",
       "7  Viruses mutate; so does everything, really. Bu...   \n",
       "8  Immunization against Covid-19 is not going per...   \n",
       "\n",
       "                                                 url  \\\n",
       "0  https://vitals.lifehacker.com/track-covid-vacc...   \n",
       "1  https://lifehacker.com/animals-can-get-covid-1...   \n",
       "2  https://twocents.lifehacker.com/what-s-in-bide...   \n",
       "3  https://lifehacker.com/you-now-have-to-prove-y...   \n",
       "4  https://www.wired.com/story/bidens-covid-plan-...   \n",
       "5  https://www.nytimes.com/2020/12/31/us/politics...   \n",
       "6  https://vitals.lifehacker.com/how-long-does-im...   \n",
       "7  https://vitals.lifehacker.com/how-bad-are-all-...   \n",
       "8  https://www.wired.com/story/there-should-be-a-...   \n",
       "\n",
       "                                          urlToImage           publishedAt  \\\n",
       "0  https://i.kinja-img.com/gawker-media/image/upl...  2021-01-06T18:30:00Z   \n",
       "1  https://i.kinja-img.com/gawker-media/image/upl...  2021-01-12T22:15:00Z   \n",
       "2  https://i.kinja-img.com/gawker-media/image/upl...  2021-01-15T18:30:00Z   \n",
       "3  https://i.kinja-img.com/gawker-media/image/upl...  2021-01-14T18:30:00Z   \n",
       "4  https://media.wired.com/photos/6000b2c499fa904...  2021-01-20T12:00:00Z   \n",
       "5  https://static01.nyt.com/images/2020/12/31/us/...  2020-12-31T19:16:52Z   \n",
       "6  https://i.kinja-img.com/gawker-media/image/upl...  2021-01-14T19:30:00Z   \n",
       "7  https://i.kinja-img.com/gawker-media/image/upl...  2021-01-21T21:45:00Z   \n",
       "8  https://media.wired.com/photos/5ff4fb087446cc5...  2021-01-06T12:00:00Z   \n",
       "\n",
       "                                             content source.id     source.name  \n",
       "0  Less than a month after the first vaccine agai...       NaN  Lifehacker.com  \n",
       "1  At least two gorillas at the San Diego Zoo hav...       NaN  Lifehacker.com  \n",
       "2  President-elect Joe Biden released a slew of C...       NaN  Lifehacker.com  \n",
       "3  With COVID-19 cases surging in the United Stat...       NaN  Lifehacker.com  \n",
       "4  ON DAY ZERO of the presidential administration...     wired           Wired  \n",
       "5  WASHINGTON — It was a warm summer Wednesday, E...       NaN  New York Times  \n",
       "6  What does this mean if I’ve had COVID?\\nWe’ve ...       NaN  Lifehacker.com  \n",
       "7  B.1.1.7 is more transmissible, but the disease...       NaN  Lifehacker.com  \n",
       "8  I SPENT A lot of time last year thinking about...     wired           Wired  "
      ]
     },
     "execution_count": 4,
     "metadata": {},
     "output_type": "execute_result"
    }
   ],
   "source": [
    "df= pd.read_csv(\"data/data_covid.csv\", sep=\";\",encoding='utf-8')\n",
    "df"
   ]
  },
  {
   "cell_type": "code",
   "execution_count": 7,
   "metadata": {},
   "outputs": [],
   "source": [
    "import numpy as np\n",
    "import pandas as pd\n",
    "import nltk\n",
    "# nltk.download('punkt') # Exécuter une fois\n",
    "import re"
   ]
  },
  {
   "cell_type": "code",
   "execution_count": null,
   "metadata": {},
   "outputs": [],
   "source": []
  },
  {
   "cell_type": "code",
   "execution_count": 8,
   "metadata": {},
   "outputs": [
    {
     "data": {
      "text/plain": [
       "'I SPENT A lot of time last year thinking about how things went wrong. You can understand why. For a physician like me, the many failures of our public health and medical systems have been especially stinging. Now we’re faced with the great, dashed hope of 2021: a plague of “vaccine chaos,” where distribution chains get knotted up with disastrous delays. I expect to read much more about this in the coming months—about every dose that’s been delivered too slowly, every one that expires unused, and every Covid-denying US senator who gets their shots before your grandmother.\\nIt’s curious that medical and scientific advances are so easily described in superlatives—miracles, breakthroughs, game changers—but their real-world implementation often ends up seeming like a catastrophe. The reason it’s so hard to put science into practice is as banal as it is complex. It’s the lesson you were taught in every history, literature, or social science class you ever took: Humans are unpredictable; society is not a controlled laboratory experiment. (Shakespeare was admittedly more poetic when he said this.) If the system does work, little credit is given. Frederick Banting and John Macleod won a Nobel Prize for their discovery of insulin, but there is no Nobel Prize for the many private companies and government regulators who ensure the cold chain actually delivers insulin to those in need. Maybe there should be, for the field of logistics.\\nI wonder how we got to this point, where any public institution not achieving immediate perfection is deemed a failure. Is it just an extension of the old news saying that “if it bleeds, it leads”—that we love reading about things going horribly wrong? I remember the bad press that followed the disastrous start of Healthcare.gov, the health insurance exchange set up by the Affordable Care Act. The technical problems were substantial. After achieving what was once considered an American impossibility—meaningful health care reform—the botched online rollout brought the law back to earth. In retrospect, the improvements gained through the expansion of health insurance have been so real that all the ink spilled over early site outages seems trifling now, even a tad offensive. Obamacare made authentic progress against entrenched social inequality. Eventually, they fixed the website.\\nIt seems likely that the vaccine rollout will look much the same after the fact. Once we are all immunized, we will celebrate the unprecedented scientific advances and administrative efforts that crushed the pandemic. In the meantime, we hear about all of the ways the vaccination campaign is going wrong. I’ve already read complaints that health care workers are being prioritized over high-risk community members, and that people in the community are being prioritized over strained health care workers. I’ve seen pundits criticize the government’s reliance on private companies for distribution and economists suggest that we should hand the reins over to private companies for distribution. We didn’t like it when Florida asked us to sign up in person for the vaccine or when they asked us to sign up online instead. American doctors have praised the UK’s decision to stretch supplies by giving only one dose to each person, while doctors in the UK decry the same thing.\\nI don’t mean to sound too dismissive or overly optimistic. One reason we care about institutional failures is because the consequences are real. The Covid crisis dwarfs even health care reform in its urgency and impact. Every delay in vaccination means more social disruption, more death. Glacial, unforgiving government bureaucracies can devastate lives. If we expect only mediocrity, that’s what we’ll achieve.\\nPracticing medicine means being intimately aware of the consequences of failure. Individual and systemic perfection is the expectation in my line of work, even when it seems amazing that our byzantine health care system works at all. There’s always a new catchphrase in health care (high reliability, six sigma, never events, zero error) that basically means the same thing: no mistakes should ever be made. That’s my personal goal, as well. Every mistake is truly calamitous for patients and providers. It’s part of what makes being a doctor so stressful. While you may have heard that doctors and nurses are suffering from burnout, the problem stems from more than overwork. Much of our stress comes from “moral injury”—that disconcerting feeling of being trapped in flawed institutions that nevertheless demand the impossible. Imagine Office Space in an ICU.\\nAs a laboratory medicine specialist, I’ve gotten a preview of what vaccine administrators will endure. Every day I open up the news to read about all of the ways Covid testing is falling short. Then I open up social media to see endless disinformation about how “false positive” results and greedy hospitals are creating a fake pandemic. The fact that there’s a caring doctor behind every Covid test doesn’t seem to register. I don’t even try to explain anymore that. despite all of our Covid testing failures, most have not been unique to the US. It’s fine to chide the federal government for a lack of over-the-counter home testing, for instance, but we actually authorized a prescription-free home test before Canada, Germany, and many other countries did. Some perspective is in order.\\nWhat would the public discourse look like if we treated our institutions with the same mercy with which we treat each other? We should hold leaders accountable, but behind every politician are thousands of government employees just doing their jobs. The Trump era made that especially clear. Instead of the deep state, we might call it the human state. Cheering on postal workers was a nice start, even if they did lose one of my packages.\\nSo you’ll have to indulge me if I sound too forgiving of the many bureaucrats executing our major human endeavors. This isn’t just personal compassion—an easy enough virtue to defend. How we talk about our institutions defines them. Whether they seem trustworthy or dishonest, efficient or sluggish, powerful or impotent has as much to do with the public narrative as their actual results. Some states, for example, have reduced the negative connotations associated with Medicaid and CHIP—the government health insurance programs for poor adults and kids—simply by changing their names. Signing up your kid for Georgia’s PeachCare feels less like taking the kind of government handout that’s been demonized by politicians. What are the knock-on effects of sowing casual doubt about our public institutions?\\n\\nIt’s possible to take forgiveness too far. There is a risk of becoming Panglossian—deciding that we already live in the best of all possible worlds as an excuse for not changing it. Given the enormous amount of money and power we bestow on governments and health care systems, it’s only right to ask for something in return. It’s even fair game to criticize us “health care heroes” when we deserve it.\\n\\nSo let’s instead make 2021 a year of reasonable expectations. Setting these in the face of intense, justified emotion is hard. But here’s where we might start: by valuing transparency over perfection, improvement over denial, iteration over omnipotence, and access over perfect equity. We will not administer the vaccine in the exact order that everyone just now personally decided was most fair. Our institutions will fail us this year—like they fail us every year—in ways large and small, incompetent and corrupt. But they will also accomplish tiny miracles. We can declare “the system” an irredeemable failure; or we can start to recognize, and nurture, all its strengths.'"
      ]
     },
     "execution_count": 8,
     "metadata": {},
     "output_type": "execute_result"
    }
   ],
   "source": [
    "df['content'][8]"
   ]
  },
  {
   "cell_type": "code",
   "execution_count": 9,
   "metadata": {},
   "outputs": [],
   "source": [
    "from nltk.tokenize import sent_tokenize"
   ]
  },
  {
   "cell_type": "code",
   "execution_count": 10,
   "metadata": {},
   "outputs": [],
   "source": [
    "sentences = []\n",
    "for s in df['content']:\n",
    "    sentences.append(sent_tokenize(s))\n",
    "\n",
    "sentences = [y for x in sentences for y in x] # flatten list"
   ]
  },
  {
   "cell_type": "code",
   "execution_count": 11,
   "metadata": {},
   "outputs": [
    {
     "data": {
      "text/plain": [
       "['Less than a month after the first vaccine against COVID-19 was authorized for use in the US, the CDC reports that we have distributed 17 million doses and vaccinated 4.8 million people.',\n",
       " '(Full protection requires two doses, so most people have only gotten their first.)',\n",
       " 'If you’d like to track the rollout of the vaccine, here and abroad, here are the websites that will help you do so.',\n",
       " 'CDC vaccine tracker\\nThe CDC’s page is here, and it shows the total doses distributed and administered, alongside a map showing how many people per state have received a dose of the vaccine, as seen in the image above.',\n",
       " 'You can look at the state map in either number of people vaccinated per 100,000 population, or just a raw count of people vaccinated so far.']"
      ]
     },
     "execution_count": 11,
     "metadata": {},
     "output_type": "execute_result"
    }
   ],
   "source": [
    "sentences[:5]"
   ]
  },
  {
   "cell_type": "code",
   "execution_count": 12,
   "metadata": {},
   "outputs": [],
   "source": [
    "# Extract word vectors\n",
    "word_embeddings = {}\n",
    "f = open('data/glove.6B.300d.txt', encoding='utf-8')\n",
    "for line in f:\n",
    "    values = line.split()\n",
    "    word = values[0]\n",
    "    coefs = np.asarray(values[1:], dtype='float32')\n",
    "    word_embeddings[word] = coefs\n",
    "f.close()"
   ]
  },
  {
   "cell_type": "code",
   "execution_count": 14,
   "metadata": {},
   "outputs": [
    {
     "data": {
      "text/plain": [
       "400000"
      ]
     },
     "execution_count": 14,
     "metadata": {},
     "output_type": "execute_result"
    }
   ],
   "source": [
    "len(word_embeddings)"
   ]
  },
  {
   "cell_type": "code",
   "execution_count": 15,
   "metadata": {},
   "outputs": [
    {
     "name": "stderr",
     "output_type": "stream",
     "text": [
      "C:\\Users\\laoue\\Anaconda3\\envs\\nlp\\lib\\site-packages\\ipykernel_launcher.py:2: FutureWarning: The default value of regex will change from True to False in a future version.\n",
      "  \n"
     ]
    }
   ],
   "source": [
    "# remove punctuations, numbers and special characters\n",
    "clean_sentences = pd.Series(sentences).str.replace(\"[^a-zA-Z]\", \" \")\n",
    "\n",
    "# make alphabets lowercase\n",
    "clean_sentences = [s.lower() for s in clean_sentences]"
   ]
  },
  {
   "cell_type": "code",
   "execution_count": 16,
   "metadata": {},
   "outputs": [
    {
     "name": "stderr",
     "output_type": "stream",
     "text": [
      "[nltk_data] Downloading package stopwords to\n",
      "[nltk_data]     C:\\Users\\laoue\\AppData\\Roaming\\nltk_data...\n",
      "[nltk_data]   Package stopwords is already up-to-date!\n"
     ]
    },
    {
     "data": {
      "text/plain": [
       "True"
      ]
     },
     "execution_count": 16,
     "metadata": {},
     "output_type": "execute_result"
    }
   ],
   "source": [
    "# Faire une fois (Download)\n",
    "nltk.download('stopwords')"
   ]
  },
  {
   "cell_type": "code",
   "execution_count": 17,
   "metadata": {},
   "outputs": [],
   "source": [
    "from nltk.corpus import stopwords\n",
    "stop_words = stopwords.words('english')"
   ]
  },
  {
   "cell_type": "code",
   "execution_count": 18,
   "metadata": {},
   "outputs": [],
   "source": [
    "# function to remove stopwords\n",
    "def remove_stopwords(sen):\n",
    "    sen_new = \" \".join([i for i in sen if i not in stop_words])\n",
    "    return sen_new"
   ]
  },
  {
   "cell_type": "code",
   "execution_count": 19,
   "metadata": {},
   "outputs": [],
   "source": [
    "# remove stopwords from the sentences\n",
    "clean_sentences = [remove_stopwords(r.split()) for r in clean_sentences]"
   ]
  },
  {
   "cell_type": "code",
   "execution_count": 21,
   "metadata": {},
   "outputs": [],
   "source": [
    "# Extract word vectors\n",
    "word_embeddings = {}\n",
    "f = open('data/glove.6B.300d.txt', encoding='utf-8')\n",
    "for line in f:\n",
    "    values = line.split()\n",
    "    word = values[0]\n",
    "    coefs = np.asarray(values[1:], dtype='float32')\n",
    "    word_embeddings[word] = coefs\n",
    "f.close()"
   ]
  },
  {
   "cell_type": "code",
   "execution_count": 24,
   "metadata": {},
   "outputs": [],
   "source": [
    "sentence_vectors = []\n",
    "for i in clean_sentences:\n",
    "    if len(i) != 0:\n",
    "        v = sum([word_embeddings.get(w, np.zeros((300,))) for w in i.split()])/(len(i.split())+0.001)\n",
    "    else:\n",
    "        v = np.zeros((100,))\n",
    "    sentence_vectors.append(v)"
   ]
  },
  {
   "cell_type": "code",
   "execution_count": 25,
   "metadata": {},
   "outputs": [],
   "source": [
    "# similarity matrix\n",
    "sim_mat = np.zeros([len(sentences), len(sentences)])"
   ]
  },
  {
   "cell_type": "code",
   "execution_count": 28,
   "metadata": {},
   "outputs": [],
   "source": [
    "from sklearn.metrics.pairwise import cosine_similarity"
   ]
  },
  {
   "cell_type": "code",
   "execution_count": null,
   "metadata": {},
   "outputs": [],
   "source": []
  },
  {
   "cell_type": "code",
   "execution_count": 31,
   "metadata": {},
   "outputs": [],
   "source": [
    "for i in range(len(sentences)):\n",
    "    for j in range(len(sentences)):\n",
    "        if i != j:\n",
    "            sim_mat[i][j] = cosine_similarity(sentence_vectors[i].reshape(1,300), sentence_vectors[j].reshape(1,300))[0,0]"
   ]
  },
  {
   "cell_type": "code",
   "execution_count": 32,
   "metadata": {},
   "outputs": [],
   "source": [
    "import networkx as nx\n",
    "\n",
    "nx_graph = nx.from_numpy_array(sim_mat)\n",
    "scores = nx.pagerank(nx_graph)"
   ]
  },
  {
   "cell_type": "code",
   "execution_count": 33,
   "metadata": {},
   "outputs": [],
   "source": [
    "ranked_sentences = sorted(((scores[i],s) for i,s in enumerate(sentences)), reverse=True)"
   ]
  },
  {
   "cell_type": "code",
   "execution_count": 35,
   "metadata": {
    "scrolled": true
   },
   "outputs": [
    {
     "name": "stdout",
     "output_type": "stream",
     "text": [
      " “That means we’ll have more accurate data so we actually do know what the current level of vaccine administration is, and it means the systems and appointments work a little better.” Information goes a long way toward calming people down, even if the information itself isn’t the best news. But the president had long seen testing not as a vital way to track and contain the pandemic but as a mechanism for making him look bad by driving up the number of known cases. “We essentially need to make things simpler.”\n",
      "Even if vaccine manufacturing keeps getting better instead of worse—no guarantee—the logistics of “everyone just come on down” have already proven, in Florida among other places, to lead to disastrous lines and chaos. According to his research, some of which was reported by The Washington Post, voters believed the pandemic was bad and getting worse, they were more concerned about getting sick than about the virus’s effects on their personal financial situation, the president’s approval rating on handling the pandemic had hit new lows and a little more than half the country did not think he was taking the situation seriously. “They want to wait!”\n",
      "Throughout late summer and fall, in the heat of a re-election campaign that he would go on to lose, and in the face of mounting evidence of a surge in infections and deaths far worse than in the spring, Mr. Trump’s management of the crisis — unsteady, unscientific and colored by politics all year — was in effect reduced to a single question: What would it mean for him? And on that day he was especially furious after being informed by Dr. Francis S. Collins, the head of the National Institutes of Health, that it would be days before the government could give emergency approval to the use of convalescent plasma as a treatment, something Mr. Trump was eager to promote as a personal victory going into the Republican National Convention the following week. Those are not necessarily what those approaches have been to this point, to put a fine point on it.”\n",
      "\n",
      "And if all that works, the Biden administration’s pandemic response could also be its best argument to those 42 percent of people who, according to a CBS News poll, think the new president’s biggest challenge is political division. Like any big machine, the federal government’s public health system takes time and energy to come up to speed. Countries with well-funded, high-functioning public health systems and the support of their governments simply haven’t seen the kind of illness and death that the United States has. More than half of Republican voters say they don’t believe Biden’s election was legitimate; maybe the best way to get them on board will be to give them a country where it’s safe to go to restaurants again, where schools are open, and 4,000 people aren’t dying every day.\n"
     ]
    }
   ],
   "source": [
    "# Extract top 10 sentences as the summary\n",
    "summary = \"\"\n",
    "for i in range(10):\n",
    "    summary = summary + \" \" + ranked_sentences[i][1]\n",
    "print(summary)"
   ]
  },
  {
   "cell_type": "code",
   "execution_count": null,
   "metadata": {},
   "outputs": [],
   "source": [
    "%run question_answering_inference.py -ques \"What time is it?\" -src \"sample2.txt\""
   ]
  },
  {
   "cell_type": "code",
   "execution_count": null,
   "metadata": {},
   "outputs": [],
   "source": []
  },
  {
   "cell_type": "code",
   "execution_count": null,
   "metadata": {},
   "outputs": [],
   "source": []
  },
  {
   "cell_type": "code",
   "execution_count": null,
   "metadata": {},
   "outputs": [],
   "source": []
  },
  {
   "cell_type": "code",
   "execution_count": 40,
   "metadata": {},
   "outputs": [],
   "source": []
  },
  {
   "cell_type": "code",
   "execution_count": null,
   "metadata": {},
   "outputs": [],
   "source": []
  },
  {
   "cell_type": "code",
   "execution_count": 43,
   "metadata": {},
   "outputs": [],
   "source": [
    "savetext = \"\"\n",
    "for i in range(9):\n",
    "    savetext = savetext + \" \" + df['content'][i]\n",
    "\n",
    "myText = open(r'data\\textsave.txt','w')\n",
    "myText.write(savetext)\n",
    "myText.close()"
   ]
  },
  {
   "cell_type": "code",
   "execution_count": 50,
   "metadata": {
    "scrolled": true
   },
   "outputs": [
    {
     "name": "stderr",
     "output_type": "stream",
     "text": [
      "100%|██████████████████████████████████████████████████████████████████████████████████| 11/11 [00:07<00:00,  1.44it/s]"
     ]
    },
    {
     "name": "stdout",
     "output_type": "stream",
     "text": [
      "['president-elect', 'gorillas', 'page also includes a count of vaccines distributed and administered to long-term care facilities (like nursing homes).So far 3.2 million doses have been shipped for use in these facilities,']\n",
      "No answer\n",
      "No answer\n",
      "No answer\n",
      "As USA Today recommends, airlines and tourism boards can likely help you in this pursuit:\n",
      "\n",
      "\u001b[34mWho is president of USA ??\u001b[0m\n",
      "\n",
      "USA Today\n",
      "\n",
      "0.9077051377946699\n",
      "\n",
      "------------------------------------\n",
      "\n",
      "No answer\n",
      "No answer\n",
      "No answer\n",
      "No answer\n",
      "No answer\n",
      "Both the CDC and the American Veterinary Medical Association agree that pets don’t commonly get the coronavirus; it’s possible, they say, but rare.President-elect Joe Biden released a slew of COVID relief measures as part of a $1.9 trillion economic plan ahead of taking office next week—it includes a new round of relief checks, enhanced unemployment aid, and a minimum wage increase.Here’s a summary of the plan.\n",
      "\n",
      "\u001b[34mWho is president of USA ??\u001b[0m\n",
      "\n",
      "Joe Biden\n",
      "\n",
      "0.9605676582753546\n",
      "\n",
      "------------------------------------\n",
      "\n",
      "No answer\n",
      "No answer\n",
      "No answer\n",
      "No answer\n",
      "No answer\n",
      "No answer\n"
     ]
    },
    {
     "name": "stderr",
     "output_type": "stream",
     "text": [
      "\n"
     ]
    }
   ],
   "source": [
    "%run question_answering_inference.py -ques \"Who is president of USA ??\" -src \"data/textsave.txt\""
   ]
  },
  {
   "cell_type": "code",
   "execution_count": 58,
   "metadata": {},
   "outputs": [
    {
     "name": "stderr",
     "output_type": "stream",
     "text": [
      "100%|██████████████████████████████████████████████████████████████████████████████████| 11/11 [00:07<00:00,  1.43it/s]"
     ]
    },
    {
     "name": "stdout",
     "output_type": "stream",
     "text": [
      "['total doses', 'pandemic) coronaviruses have been known to infect dogs and other animals.', 'three']\n",
      "No answer\n",
      "No answer\n",
      "No answer\n",
      "Which animals can get the coronavirus? Besides the gorillas, we know that some tigers and lions at the Bronx zoo tested positive for COVID in April.Studies conducted by veterinarians have also found COVID in cats and dogs who picked up the coronavirus from their human families.And perhaps most concerning, there have been outbreaks in mink at fur farms in multiple countries.\n",
      "\n",
      "\u001b[34mhow many doses were dispensed last mounth ?\u001b[0m\n",
      "\n",
      "gorillas\n",
      "\n",
      "0.9339169698355967\n",
      "\n",
      "------------------------------------\n",
      "\n",
      "No answer\n",
      "No answer\n",
      "But the mink are different.Mink in European fur farms caught the coronavirus, passed it to each other, and were apparently able to infect humans.The Danish government, noting that mutations traced to mink were present in at least a dozen human cases of COVID, ordered that all farmed mink in the country be killed.\n",
      "\n",
      "\u001b[34mhow many doses were dispensed last mounth ?\u001b[0m\n",
      "\n",
      "at least a dozen\n",
      "\n",
      "0.5757504234929207\n",
      "\n",
      "------------------------------------\n",
      "\n",
      "No answer\n",
      "No answer\n",
      "No answer\n",
      "No answer\n",
      "The page also includes a count of vaccines distributed and administered to long-term care facilities (like nursing homes).So far 3.2 million doses have been shipped for use in these facilities, and just under half a million have been given to residents and staff.\n",
      "\n",
      "\u001b[34mhow many doses were dispensed last mounth ?\u001b[0m\n",
      "\n",
      "3.2 million\n",
      "\n",
      "0.8538792466505596\n",
      "\n",
      "------------------------------------\n",
      "\n",
      "Less than a month after the first vaccine against COVID-19 was authorized for use in the US, the CDC reports that we have distributed 17 million doses and vaccinated 4.8 million people.(Full protection requires two doses, so most people have only gotten their first.) If you’d like to track the rollout of the vaccine, here and abroad, here are the websites that will help you do so.\n",
      "\n",
      "\u001b[34mhow many doses were dispensed last mounth ?\u001b[0m\n",
      "\n",
      "17 million\n",
      "\n",
      "0.721359482514868\n",
      "\n",
      "------------------------------------\n",
      "\n",
      "No answer\n",
      "No answer\n",
      "No answer\n"
     ]
    },
    {
     "name": "stderr",
     "output_type": "stream",
     "text": [
      "\n"
     ]
    }
   ],
   "source": [
    "%run question_answering_inference.py -ques \"how many doses were dispensed last mounth ?\" -src \"data/textsave.txt\""
   ]
  },
  {
   "cell_type": "code",
   "execution_count": null,
   "metadata": {},
   "outputs": [],
   "source": []
  }
 ],
 "metadata": {
  "kernelspec": {
   "display_name": "Python 3",
   "language": "python",
   "name": "python3"
  },
  "language_info": {
   "codemirror_mode": {
    "name": "ipython",
    "version": 3
   },
   "file_extension": ".py",
   "mimetype": "text/x-python",
   "name": "python",
   "nbconvert_exporter": "python",
   "pygments_lexer": "ipython3",
   "version": "3.7.9"
  }
 },
 "nbformat": 4,
 "nbformat_minor": 4
}
